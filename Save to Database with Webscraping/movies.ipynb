{
 "cells": [
  {
   "cell_type": "code",
   "execution_count": 5,
   "metadata": {},
   "outputs": [],
   "source": [
    "import random\n",
    "from bs4 import BeautifulSoup\n",
    "import requests\n",
    "import random\n",
    "import re\n",
    "from itertools import chain\n"
   ]
  },
  {
   "cell_type": "code",
   "execution_count": 6,
   "metadata": {},
   "outputs": [],
   "source": [
    "url = \"https://www.imdb.com/search/title/?groups=top_250&sort=user_rating\"\n"
   ]
  },
  {
   "cell_type": "code",
   "execution_count": 7,
   "metadata": {},
   "outputs": [],
   "source": [
    "def get_year(bs4_expression):\n",
    "\n",
    "    pattern = r\"[0-9]+\"\n",
    "    match = re.search(pattern, bs4_expression)\n",
    "    return int(match.group())\n"
   ]
  },
  {
   "cell_type": "code",
   "execution_count": 8,
   "metadata": {},
   "outputs": [],
   "source": [
    "class Soup:\n",
    "    def __init__(self, url):\n",
    "        self.soup = self.get_soup(url)\n",
    "\n",
    "    def get_soup(self, url):\n",
    "\n",
    "        html_next_page = requests.get(url).text\n",
    "        soup = BeautifulSoup(html_next_page, \"html.parser\")\n",
    "\n",
    "        return soup\n",
    "\n",
    "    def get_movie_names_from_page(self):\n",
    "\n",
    "        list_of_movies = [img[\"alt\"] for img in self.soup.find_all(\"img\")]\n",
    "        return list_of_movies\n",
    "\n",
    "    def get_all_directors_of_page(self):\n",
    "        P_tags_containing_directors = self.soup.find_all(\"p\", class_=\"\")\n",
    "        directors = [tag.find_all(\n",
    "            \"a\")[0].text for tag in P_tags_containing_directors]\n",
    "\n",
    "        return directors\n",
    "\n",
    "    def get_all_ratings_of_page(self):\n",
    "        rating_tags = self.soup.find_all(\"strong\")[2:]\n",
    "\n",
    "        ratings = [float(tag.text) for tag in rating_tags]\n",
    "        return ratings\n",
    "\n",
    "    def get_all_initial_release_dates_of_page(self):\n",
    "        initial_release_tags = self.soup.find_all(\n",
    "            \"span\", class_=\"lister-item-year text-muted unbold\")\n",
    "\n",
    "        initial_release_dates = [get_year(tag.text)\n",
    "                                 for tag in initial_release_tags]\n",
    "        return initial_release_dates\n",
    "\n",
    "    def get_all_brief_summaries_of_page(self):\n",
    "\n",
    "        summary_tags = self.soup.find_all(\"p\", class_=\"text-muted\")\n",
    "        summaries = [summary_tags[i].text.lstrip()\n",
    "                     for i in range(1, len(summary_tags), 2)]\n",
    "\n",
    "        return summaries\n",
    "\n",
    "\n",
    "\n",
    "\n",
    "class All_Soup ():\n",
    "    def __init__(self, url):\n",
    "        self.initial_Soup = Soup(url)\n",
    "        self.all_Soups = self.get_all_movie_soups()\n",
    "\n",
    "    def get_all_movie_soups(self):\n",
    "\n",
    "        soup2 = self.get_next_page_soup(self.initial_Soup.soup)\n",
    "        soup3 = self.get_next_page_soup(soup2.soup)\n",
    "        soup4 = self.get_next_page_soup(soup3.soup)\n",
    "        soup5 = self.get_next_page_soup(soup4.soup)\n",
    "\n",
    "        all_soups = [self.initial_Soup, soup2, soup3, soup4, soup5]\n",
    "\n",
    "        return all_soups\n",
    "\n",
    "    def make_next_page_url(self, soup):\n",
    "\n",
    "        base_url = \"https://www.imdb.com\"\n",
    "        extra_url = soup.find_all(\n",
    "            \"a\",  class_=\"lister-page-next next-page\")[0][\"href\"]\n",
    "\n",
    "        return base_url + extra_url\n",
    "\n",
    "    def get_next_page_soup(self, soup):\n",
    "        next_page_url = self.make_next_page_url(soup)\n",
    "\n",
    "        return Soup(next_page_url)\n",
    "\n",
    "    def get_all_movie_names(self):\n",
    "\n",
    "        movie_names = [soup.get_movie_names_from_page()\n",
    "                       for soup in self.all_Soups]\n",
    "\n",
    "        return list(chain.from_iterable(movie_names))\n",
    "\n",
    "    def get_all_directors(self):\n",
    "\n",
    "        directors = [soup.get_all_directors_of_page()\n",
    "                     for soup in self.all_Soups]\n",
    "        return list(chain.from_iterable(directors))\n",
    "\n",
    "    def get_all_ratings(self):\n",
    "\n",
    "        ratings = [soup.get_all_ratings_of_page() for soup in self.all_Soups]\n",
    "        return list(chain.from_iterable(ratings))\n",
    "\n",
    "    def get_all_initial_release_dates(self):\n",
    "\n",
    "        initial_release_dates = [\n",
    "            soup.get_all_initial_release_dates_of_page() for soup in self.all_Soups]\n",
    "        return list(chain.from_iterable(initial_release_dates))\n",
    "\n",
    "    def get_all_brief_summary(self):\n",
    "\n",
    "        brief_summaries = [soup.get_all_brief_summaries_of_page()\n",
    "                           for soup in self.all_Soups]\n",
    "        return list(chain.from_iterable(brief_summaries))\n"
   ]
  },
  {
   "cell_type": "code",
   "execution_count": 9,
   "metadata": {},
   "outputs": [],
   "source": [
    "all_soups = All_Soup(url)\n"
   ]
  },
  {
   "cell_type": "code",
   "execution_count": 10,
   "metadata": {},
   "outputs": [],
   "source": [
    "def get_all_attributes(all_soups):\n",
    "\n",
    "    all_attributes = {}\n",
    "    all_attributes[\"Ratings\"] = all_soups.get_all_ratings()\n",
    "    all_attributes[\"Names\"] = all_soups.get_all_movie_names()\n",
    "    all_attributes[\"Directors\"] = all_soups.get_all_directors()\n",
    "    all_attributes[\"Release Dates\"] = all_soups.get_all_initial_release_dates()\n",
    "    all_attributes[\"Brief Summary\"] = all_soups.get_all_brief_summary()\n",
    "\n",
    "    return all_attributes\n",
    "\n",
    "def get_movies_after_a_particular_year(all_attributes, year):\n",
    "    movies_after_2010 = []\n",
    "    for i in range(250):\n",
    "        if int(all_attributes[\"Release Dates\"][i]) > year:\n",
    "            movies_after_2010.append(all_attributes[\"Names\"][i])\n",
    "    return movies_after_2010\n",
    "\n",
    "def print_random_movie_attributes(all_attributes):\n",
    "\n",
    "    index = random.randint(0, 249)\n",
    "    print(\"Name:\",all_attributes[\"Names\"][index])\n",
    "    print(\"Rating:\",all_attributes[\"Ratings\"][index])\n",
    "    print(\"Director:\",all_attributes[\"Directors\"][index])\n",
    "    print(\"Release Date:\",all_attributes[\"Release Dates\"][index])\n",
    "    print(\"Brief Summary:\",all_attributes[\"Brief Summary\"][index])"
   ]
  },
  {
   "cell_type": "code",
   "execution_count": 11,
   "metadata": {},
   "outputs": [
    {
     "name": "stdout",
     "output_type": "stream",
     "text": [
      "Name: Citizen Kane\n",
      "Rating: 8.3\n",
      "Director: Orson Welles\n",
      "Release Date: 1941\n",
      "Brief Summary: Following the death of publishing tycoon Charles Foster Kane, reporters scramble to uncover the meaning of his final utterance: 'Rosebud.'\n"
     ]
    }
   ],
   "source": [
    "all_attributes = get_all_attributes(all_soups)\n",
    "print_random_movie_attributes(all_attributes)\n"
   ]
  },
  {
   "cell_type": "code",
   "execution_count": 12,
   "metadata": {},
   "outputs": [],
   "source": [
    "def get_every_movies_data(all_attributes):\n",
    "\n",
    "    movies_data = []\n",
    "\n",
    "    for i in range(250):\n",
    "        movie_data = [\"id\", \"name\", \"rating\", \"director\", \"release_date\", \"summary\"]\n",
    "        movie_data[0] = i+1\n",
    "        movie_data[1] = all_attributes[\"Names\"][i]\n",
    "        movie_data[2] = all_attributes[\"Ratings\"][i]\n",
    "        movie_data[3] = all_attributes[\"Directors\"][i]\n",
    "        movie_data[4] = all_attributes[\"Release Dates\"][i]\n",
    "        movie_data[5] = all_attributes[\"Brief Summary\"][i]\n",
    "\n",
    "\n",
    "        movies_data.append(tuple(movie_data))\n",
    "\n",
    "    return movies_data"
   ]
  },
  {
   "cell_type": "code",
   "execution_count": 13,
   "metadata": {},
   "outputs": [],
   "source": [
    "movies_data = get_every_movies_data(all_attributes)"
   ]
  },
  {
   "cell_type": "code",
   "execution_count": 14,
   "metadata": {},
   "outputs": [
    {
     "data": {
      "text/plain": [
       "int"
      ]
     },
     "execution_count": 14,
     "metadata": {},
     "output_type": "execute_result"
    }
   ],
   "source": [
    "type(all_attributes[\"Release Dates\"][0])"
   ]
  },
  {
   "cell_type": "code",
   "execution_count": 19,
   "metadata": {},
   "outputs": [],
   "source": [
    "movies_after_2020 = get_movies_after_a_particular_year(all_attributes, 2020)\n"
   ]
  },
  {
   "cell_type": "code",
   "execution_count": 16,
   "metadata": {},
   "outputs": [
    {
     "data": {
      "text/plain": [
       "dict_keys(['Ratings', 'Names', 'Directors', 'Release Dates', 'Brief Summary'])"
      ]
     },
     "execution_count": 16,
     "metadata": {},
     "output_type": "execute_result"
    }
   ],
   "source": [
    "all_attributes.keys()"
   ]
  },
  {
   "cell_type": "code",
   "execution_count": 20,
   "metadata": {},
   "outputs": [
    {
     "data": {
      "text/plain": [
       "5"
      ]
     },
     "execution_count": 20,
     "metadata": {},
     "output_type": "execute_result"
    }
   ],
   "source": [
    "len(movies_after_2020)"
   ]
  },
  {
   "cell_type": "code",
   "execution_count": 18,
   "metadata": {},
   "outputs": [
    {
     "data": {
      "text/plain": [
       "'Hamilton'"
      ]
     },
     "execution_count": 18,
     "metadata": {},
     "output_type": "execute_result"
    }
   ],
   "source": [
    "random.choice(movies_after_2020)"
   ]
  },
  {
   "cell_type": "code",
   "execution_count": 40,
   "metadata": {},
   "outputs": [],
   "source": [
    "import sqlite3\n",
    "\n",
    "# Connect to the database\n",
    "conn = sqlite3.connect('Top250Movies.db')\n",
    "cursor = conn.cursor()\n",
    "\n",
    "# Create a table to store your data\n",
    "cursor.execute('''CREATE TABLE top250movies\n",
    "                (id INTEGER PRIMARY KEY,\n",
    "                 name TEXT,\n",
    "                 rating REAL,\n",
    "                 director TEXT,\n",
    "                 release_date INTEGER,\n",
    "                 summary TEXT)''')\n",
    "\n",
    "# Insert your data into the table\n",
    "data = movies_data\n",
    "cursor.executemany('INSERT INTO top250movies VALUES (?, ?, ?, ?, ?, ?)', data)\n",
    "\n",
    "# Save the changes and close the connection\n",
    "conn.commit()\n",
    "conn.close()\n"
   ]
  }
 ],
 "metadata": {
  "kernelspec": {
   "display_name": "Python 3",
   "language": "python",
   "name": "python3"
  },
  "language_info": {
   "codemirror_mode": {
    "name": "ipython",
    "version": 3
   },
   "file_extension": ".py",
   "mimetype": "text/x-python",
   "name": "python",
   "nbconvert_exporter": "python",
   "pygments_lexer": "ipython3",
   "version": "3.11.4"
  },
  "orig_nbformat": 4
 },
 "nbformat": 4,
 "nbformat_minor": 2
}
